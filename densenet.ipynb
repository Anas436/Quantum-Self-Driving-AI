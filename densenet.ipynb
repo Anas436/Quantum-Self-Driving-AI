{
 "cells": [
  {
   "cell_type": "code",
   "execution_count": 1,
   "id": "393b026b",
   "metadata": {
    "_cell_guid": "b1076dfc-b9ad-4769-8c92-a6c4dae69d19",
    "_uuid": "8f2839f25d086af736a60e9eeb907d3b93b6e0e5",
    "execution": {
     "iopub.execute_input": "2023-07-18T14:15:08.480410Z",
     "iopub.status.busy": "2023-07-18T14:15:08.479855Z",
     "iopub.status.idle": "2023-07-18T14:15:08.493607Z",
     "shell.execute_reply": "2023-07-18T14:15:08.492602Z"
    },
    "papermill": {
     "duration": 0.023221,
     "end_time": "2023-07-18T14:15:08.495870",
     "exception": false,
     "start_time": "2023-07-18T14:15:08.472649",
     "status": "completed"
    },
    "tags": []
   },
   "outputs": [],
   "source": [
    "# This Python 3 environment comes with many helpful analytics libraries installed\n",
    "# It is defined by the kaggle/python Docker image: https://github.com/kaggle/docker-python\n",
    "# For example, here's several helpful packages to load\n",
    "\n",
    "import numpy as np # linear algebra\n",
    "import pandas as pd # data processing, CSV file I/O (e.g. pd.read_csv)\n",
    "\n",
    "# Input data files are available in the read-only \"../input/\" directory\n",
    "# For example, running this (by clicking run or pressing Shift+Enter) will list all files under the input directory\n",
    "\n",
    "import os\n",
    "for dirname, _, filenames in os.walk('/kaggle/input'):\n",
    "    for filename in filenames:\n",
    "        print(os.path.join(dirname, filename))\n",
    "\n",
    "# You can write up to 20GB to the current directory (/kaggle/working/) that gets preserved as output when you create a version using \"Save & Run All\" \n",
    "# You can also write temporary files to /kaggle/temp/, but they won't be saved outside of the current session"
   ]
  },
  {
   "cell_type": "code",
   "execution_count": 2,
   "id": "bf99f611",
   "metadata": {
    "execution": {
     "iopub.execute_input": "2023-07-18T14:15:08.506311Z",
     "iopub.status.busy": "2023-07-18T14:15:08.506033Z",
     "iopub.status.idle": "2023-07-18T14:17:09.673991Z",
     "shell.execute_reply": "2023-07-18T14:17:09.672831Z"
    },
    "papermill": {
     "duration": 121.175924,
     "end_time": "2023-07-18T14:17:09.676590",
     "exception": false,
     "start_time": "2023-07-18T14:15:08.500666",
     "status": "completed"
    },
    "tags": []
   },
   "outputs": [
    {
     "name": "stdout",
     "output_type": "stream",
     "text": [
      "Cloning into 'Omdena-Quantum-Self-Driving'...\r\n",
      "remote: Enumerating objects: 45889, done.\u001b[K\r\n",
      "remote: Counting objects: 100% (11799/11799), done.\u001b[K\r\n",
      "remote: Compressing objects: 100% (11746/11746), done.\u001b[K\r\n",
      "remote: Total 45889 (delta 94), reused 11715 (delta 43), pack-reused 34090\u001b[K\r\n",
      "Receiving objects: 100% (45889/45889), 2.16 GiB | 23.25 MiB/s, done.\r\n",
      "Resolving deltas: 100% (123/123), done.\r\n",
      "Updating files: 100% (45596/45596), done.\r\n"
     ]
    }
   ],
   "source": [
    "!git clone https://github.com/raghav-thiruv/Omdena-Quantum-Self-Driving.git"
   ]
  },
  {
   "cell_type": "code",
   "execution_count": 3,
   "id": "6fbaccd0",
   "metadata": {
    "execution": {
     "iopub.execute_input": "2023-07-18T14:17:09.753328Z",
     "iopub.status.busy": "2023-07-18T14:17:09.752888Z",
     "iopub.status.idle": "2023-07-18T14:17:20.648137Z",
     "shell.execute_reply": "2023-07-18T14:17:20.647051Z"
    },
    "papermill": {
     "duration": 10.937415,
     "end_time": "2023-07-18T14:17:20.651126",
     "exception": false,
     "start_time": "2023-07-18T14:17:09.713711",
     "status": "completed"
    },
    "tags": []
   },
   "outputs": [
    {
     "name": "stderr",
     "output_type": "stream",
     "text": [
      "/opt/conda/lib/python3.10/site-packages/scipy/__init__.py:146: UserWarning: A NumPy version >=1.16.5 and <1.23.0 is required for this version of SciPy (detected version 1.23.5\n",
      "  warnings.warn(f\"A NumPy version >={np_minversion} and <{np_maxversion}\"\n",
      "/opt/conda/lib/python3.10/site-packages/tensorflow_io/python/ops/__init__.py:98: UserWarning: unable to load libtensorflow_io_plugins.so: unable to open file: libtensorflow_io_plugins.so, from paths: ['/opt/conda/lib/python3.10/site-packages/tensorflow_io/python/ops/libtensorflow_io_plugins.so']\n",
      "caused by: ['/opt/conda/lib/python3.10/site-packages/tensorflow_io/python/ops/libtensorflow_io_plugins.so: undefined symbol: _ZN3tsl6StatusC1EN10tensorflow5error4CodeESt17basic_string_viewIcSt11char_traitsIcEENS_14SourceLocationE']\n",
      "  warnings.warn(f\"unable to load libtensorflow_io_plugins.so: {e}\")\n",
      "/opt/conda/lib/python3.10/site-packages/tensorflow_io/python/ops/__init__.py:104: UserWarning: file system plugins are not loaded: unable to open file: libtensorflow_io.so, from paths: ['/opt/conda/lib/python3.10/site-packages/tensorflow_io/python/ops/libtensorflow_io.so']\n",
      "caused by: ['/opt/conda/lib/python3.10/site-packages/tensorflow_io/python/ops/libtensorflow_io.so: undefined symbol: _ZTVN10tensorflow13GcsFileSystemE']\n",
      "  warnings.warn(f\"file system plugins are not loaded: {e}\")\n"
     ]
    }
   ],
   "source": [
    "import tensorflow as tf\n",
    "\n",
    "import pandas as pd\n",
    "import numpy as np\n",
    "import os\n",
    "import keras\n",
    "import random\n",
    "import math\n",
    "import seaborn as sns\n",
    "\n",
    "from sklearn.metrics import confusion_matrix\n",
    "from sklearn.preprocessing import LabelBinarizer\n",
    "from sklearn.model_selection import train_test_split\n",
    "\n",
    "import matplotlib.pyplot as plt\n",
    "\n",
    "from tensorflow.keras.layers import Dense,GlobalAveragePooling2D,Convolution2D,BatchNormalization\n",
    "from tensorflow.keras.layers import Flatten,MaxPooling2D,Dropout\n",
    "\n",
    "from tensorflow.keras.applications import DenseNet121\n",
    "from tensorflow.keras.applications.densenet import preprocess_input\n",
    "\n",
    "from tensorflow.keras.preprocessing import image\n",
    "from tensorflow.keras.preprocessing.image import ImageDataGenerator,img_to_array\n",
    "\n",
    "from tensorflow.keras.models import Model\n",
    "\n",
    "from tensorflow.keras.optimizers import Adam\n",
    "\n",
    "from tensorflow.keras.callbacks import ModelCheckpoint, ReduceLROnPlateau\n",
    "import numpy as np\n",
    "import pandas as pd\n",
    "import os\n",
    "import matplotlib.pyplot as plt\n",
    "\n",
    "from keras import layers\n",
    "\n",
    "from keras import models\n",
    "\n",
    "from keras.layers import (Input, Dense, Activation, ZeroPadding2D,\n",
    "BatchNormalization, Flatten, Conv2D, concatenate, Lambda)\n",
    "\n",
    "from keras.layers import (AveragePooling2D, MaxPooling2D, Dropout,\n",
    "GlobalMaxPooling2D, GlobalAveragePooling2D)\n",
    "\n",
    "from keras.models import Model, load_model\n",
    "from keras import regularizers, optimizers\n",
    "\n",
    "from sklearn.model_selection import train_test_split\n",
    "\n",
    "from keras.utils import to_categorical\n",
    "\n",
    "\n",
    "import warnings\n",
    "warnings.filterwarnings(\"ignore\")"
   ]
  },
  {
   "cell_type": "code",
   "execution_count": 4,
   "id": "d09c0d2f",
   "metadata": {
    "execution": {
     "iopub.execute_input": "2023-07-18T14:17:20.725244Z",
     "iopub.status.busy": "2023-07-18T14:17:20.724555Z",
     "iopub.status.idle": "2023-07-18T14:17:20.737664Z",
     "shell.execute_reply": "2023-07-18T14:17:20.736650Z"
    },
    "papermill": {
     "duration": 0.051595,
     "end_time": "2023-07-18T14:17:20.739837",
     "exception": false,
     "start_time": "2023-07-18T14:17:20.688242",
     "status": "completed"
    },
    "tags": []
   },
   "outputs": [],
   "source": [
    "from struct import unpack\n",
    "from tqdm import tqdm\n",
    "import os\n",
    "\n",
    "img_dir = '/content/Omdena-Quantum-Self-Driving/Images/driving_dataset1/'\n",
    "root_img = '/content/Omdena-Quantum-Self-Driving/Images/driving_dataset1/'\n",
    "marker_mapping = {\n",
    "    0xffd8: \"Start of Image\",\n",
    "    0xffe0: \"Application Default Header\",\n",
    "    0xffdb: \"Quantization Table\",\n",
    "    0xffc0: \"Start of Frame\",\n",
    "    0xffc4: \"Define Huffman Table\",\n",
    "    0xffda: \"Start of Scan\",\n",
    "    0xffd9: \"End of Image\"\n",
    "}\n",
    "\n",
    "\n",
    "class JPEG:\n",
    "    def __init__(self, image_file):\n",
    "        with open(image_file, 'rb') as f:\n",
    "            self.img_data = f.read()\n",
    "\n",
    "    def decode(self):\n",
    "        data = self.img_data\n",
    "        while(True):\n",
    "            marker, = unpack(\">H\", data[0:2])\n",
    "            # print(marker_mapping.get(marker))\n",
    "            if marker == 0xffd8:\n",
    "                data = data[2:]\n",
    "            elif marker == 0xffd9:\n",
    "                return\n",
    "            elif marker == 0xffda:\n",
    "                data = data[-2:]\n",
    "            else:\n",
    "                lenchunk, = unpack(\">H\", data[2:4])\n",
    "                data = data[2+lenchunk:]\n",
    "            if len(data)==0:\n",
    "               raise TypeError(\"issue reading jpeg file\")\n",
    "\n",
    "\n",
    "bads = []\n",
    "\n",
    "for dirName, subdirList, fileList in os.walk(img_dir):\n",
    "    imagesList = fileList\n",
    "    for img in tqdm(imagesList):\n",
    "      image = os.path.join(root_img,img)\n",
    "      image = JPEG(image)\n",
    "      try:\n",
    "        image.decode()\n",
    "      except:\n",
    "        bads.append(img)\n",
    "\n",
    "\n",
    "for name in bads:\n",
    "  os.remove(os.path.join(root_img,name))"
   ]
  },
  {
   "cell_type": "code",
   "execution_count": 5,
   "id": "50d9290f",
   "metadata": {
    "execution": {
     "iopub.execute_input": "2023-07-18T14:17:20.814315Z",
     "iopub.status.busy": "2023-07-18T14:17:20.813951Z",
     "iopub.status.idle": "2023-07-18T14:17:21.769260Z",
     "shell.execute_reply": "2023-07-18T14:17:21.767990Z"
    },
    "papermill": {
     "duration": 0.994773,
     "end_time": "2023-07-18T14:17:21.772138",
     "exception": false,
     "start_time": "2023-07-18T14:17:20.777365",
     "status": "completed"
    },
    "tags": []
   },
   "outputs": [
    {
     "name": "stdout",
     "output_type": "stream",
     "text": [
      "Omdena-Quantum-Self-Driving  __notebook__.ipynb\r\n"
     ]
    }
   ],
   "source": [
    "!ls"
   ]
  },
  {
   "cell_type": "code",
   "execution_count": 6,
   "id": "1b90e7c9",
   "metadata": {
    "execution": {
     "iopub.execute_input": "2023-07-18T14:17:21.845625Z",
     "iopub.status.busy": "2023-07-18T14:17:21.845274Z",
     "iopub.status.idle": "2023-07-18T14:17:22.793987Z",
     "shell.execute_reply": "2023-07-18T14:17:22.792301Z"
    },
    "papermill": {
     "duration": 0.988307,
     "end_time": "2023-07-18T14:17:22.796747",
     "exception": false,
     "start_time": "2023-07-18T14:17:21.808440",
     "status": "completed"
    },
    "tags": []
   },
   "outputs": [],
   "source": [
    "!mv \"Omdena-Quantum-Self-Driving/Images/driving_dataset1/data.txt\" \"Omdena-Quantum-Self-Driving/Images/\""
   ]
  },
  {
   "cell_type": "code",
   "execution_count": 7,
   "id": "aa64bf28",
   "metadata": {
    "execution": {
     "iopub.execute_input": "2023-07-18T14:17:22.870312Z",
     "iopub.status.busy": "2023-07-18T14:17:22.869871Z",
     "iopub.status.idle": "2023-07-18T14:17:23.010686Z",
     "shell.execute_reply": "2023-07-18T14:17:23.009446Z"
    },
    "papermill": {
     "duration": 0.181545,
     "end_time": "2023-07-18T14:17:23.014086",
     "exception": false,
     "start_time": "2023-07-18T14:17:22.832541",
     "status": "completed"
    },
    "tags": []
   },
   "outputs": [
    {
     "data": {
      "text/html": [
       "<div>\n",
       "<style scoped>\n",
       "    .dataframe tbody tr th:only-of-type {\n",
       "        vertical-align: middle;\n",
       "    }\n",
       "\n",
       "    .dataframe tbody tr th {\n",
       "        vertical-align: top;\n",
       "    }\n",
       "\n",
       "    .dataframe thead th {\n",
       "        text-align: right;\n",
       "    }\n",
       "</style>\n",
       "<table border=\"1\" class=\"dataframe\">\n",
       "  <thead>\n",
       "    <tr style=\"text-align: right;\">\n",
       "      <th></th>\n",
       "      <th>filename</th>\n",
       "      <th>steering_angle</th>\n",
       "    </tr>\n",
       "  </thead>\n",
       "  <tbody>\n",
       "    <tr>\n",
       "      <th>0</th>\n",
       "      <td>Omdena-Quantum-Self-Driving/Images/driving_dat...</td>\n",
       "      <td>0.0</td>\n",
       "    </tr>\n",
       "    <tr>\n",
       "      <th>1</th>\n",
       "      <td>Omdena-Quantum-Self-Driving/Images/driving_dat...</td>\n",
       "      <td>0.0</td>\n",
       "    </tr>\n",
       "    <tr>\n",
       "      <th>2</th>\n",
       "      <td>Omdena-Quantum-Self-Driving/Images/driving_dat...</td>\n",
       "      <td>0.0</td>\n",
       "    </tr>\n",
       "    <tr>\n",
       "      <th>3</th>\n",
       "      <td>Omdena-Quantum-Self-Driving/Images/driving_dat...</td>\n",
       "      <td>0.0</td>\n",
       "    </tr>\n",
       "    <tr>\n",
       "      <th>4</th>\n",
       "      <td>Omdena-Quantum-Self-Driving/Images/driving_dat...</td>\n",
       "      <td>0.0</td>\n",
       "    </tr>\n",
       "  </tbody>\n",
       "</table>\n",
       "</div>"
      ],
      "text/plain": [
       "                                            filename  steering_angle\n",
       "0  Omdena-Quantum-Self-Driving/Images/driving_dat...             0.0\n",
       "1  Omdena-Quantum-Self-Driving/Images/driving_dat...             0.0\n",
       "2  Omdena-Quantum-Self-Driving/Images/driving_dat...             0.0\n",
       "3  Omdena-Quantum-Self-Driving/Images/driving_dat...             0.0\n",
       "4  Omdena-Quantum-Self-Driving/Images/driving_dat...             0.0"
      ]
     },
     "execution_count": 7,
     "metadata": {},
     "output_type": "execute_result"
    }
   ],
   "source": [
    "# Load steering angles from text file\n",
    "df = pd.read_csv('Omdena-Quantum-Self-Driving/Images/data.txt', names=['filename', 'steering_angle'], delimiter=' ')\n",
    "image_dir = 'Omdena-Quantum-Self-Driving/Images/driving_dataset1/'\n",
    "data_file = \"Omdena-Quantum-Self-Driving/Images/data.txt\"\n",
    "df['filename'] = df['filename'].apply(lambda x: os.path.join(image_dir, x))\n",
    "df.head()"
   ]
  },
  {
   "cell_type": "code",
   "execution_count": 8,
   "id": "17a386b0",
   "metadata": {
    "execution": {
     "iopub.execute_input": "2023-07-18T14:17:23.088434Z",
     "iopub.status.busy": "2023-07-18T14:17:23.088087Z",
     "iopub.status.idle": "2023-07-18T14:17:23.095768Z",
     "shell.execute_reply": "2023-07-18T14:17:23.094714Z"
    },
    "papermill": {
     "duration": 0.046616,
     "end_time": "2023-07-18T14:17:23.097769",
     "exception": false,
     "start_time": "2023-07-18T14:17:23.051153",
     "status": "completed"
    },
    "tags": []
   },
   "outputs": [],
   "source": [
    "def load_image(image_path):\n",
    "    try:\n",
    "        image = tf.io.read_file(image_path)\n",
    "        image = tf.image.decode_jpeg(image, channels=3)\n",
    "        image = tf.image.resize(image, (224, 224))\n",
    "        image = tf.keras.applications.resnet.preprocess_input(image)\n",
    "    except:\n",
    "        print(f\"Invalid image format, skipping: {image_path}\")\n",
    "        return None\n",
    "    return image\n",
    "\n",
    "def create_dataset(df):\n",
    "    image_dataset = tf.data.Dataset.from_tensor_slices(df['filename'])\n",
    "    angle_dataset = tf.data.Dataset.from_tensor_slices(df['steering_angle'])\n",
    "    image_dataset = image_dataset.map(load_image, num_parallel_calls=tf.data.AUTOTUNE)\n",
    "    image_dataset = image_dataset.apply(tf.data.experimental.ignore_errors())\n",
    "    dataset = tf.data.Dataset.zip((image_dataset, angle_dataset))\n",
    "\n",
    "    return dataset"
   ]
  },
  {
   "cell_type": "code",
   "execution_count": 9,
   "id": "bb989829",
   "metadata": {
    "execution": {
     "iopub.execute_input": "2023-07-18T14:17:23.171350Z",
     "iopub.status.busy": "2023-07-18T14:17:23.170434Z",
     "iopub.status.idle": "2023-07-18T14:17:26.517107Z",
     "shell.execute_reply": "2023-07-18T14:17:26.515885Z"
    },
    "papermill": {
     "duration": 3.386354,
     "end_time": "2023-07-18T14:17:26.519805",
     "exception": false,
     "start_time": "2023-07-18T14:17:23.133451",
     "status": "completed"
    },
    "tags": []
   },
   "outputs": [],
   "source": [
    "def densenet_model(input_shape):\n",
    "    \n",
    "    x_input = Input(shape=input_shape)\n",
    "    x = Lambda(lambda x: x/127.5-1.0)(x_input)\n",
    "    \n",
    "    x = Conv2D(32,(3,3),activation='relu',padding='same')(x_input)\n",
    "    \n",
    "    x = Conv2D(32,(3,3),activation='relu',padding='same')(x)\n",
    "    x = MaxPooling2D((2,2),padding='valid')(x)\n",
    "    \n",
    "    x = Conv2D(64,(3,3),activation='relu',padding='same')(x)\n",
    "    \n",
    "    x = Conv2D(64,(3,3),activation='relu',padding='same')(x)\n",
    "    x = MaxPooling2D((2,2),padding='valid')(x)\n",
    "    \n",
    "    x = Conv2D(128,(3,3),activation='relu',padding='same')(x)\n",
    "    x = MaxPooling2D((2,2),padding='valid')(x)\n",
    "    \n",
    "    x = Conv2D(128,(3,3),activation='relu',padding='same')(x)\n",
    "    x = MaxPooling2D((2,2),padding='valid')(x)\n",
    "    \n",
    "    x = Flatten()(x)\n",
    "    x = Dropout(0.5)(x)\n",
    "       \n",
    "    x = BatchNormalization()(x)\n",
    "    x = Dense(512)(x)\n",
    "    x = Dense(256)(x)\n",
    "    x = Dense(64)(x)\n",
    "    x = Dense(1)(x)\n",
    "    \n",
    "    model = Model(inputs=x_input,outputs=x,name='model')\n",
    "    return model\n",
    "\n",
    "model = densenet_model((224, 224, 3))"
   ]
  },
  {
   "cell_type": "code",
   "execution_count": 10,
   "id": "6835bfb2",
   "metadata": {
    "execution": {
     "iopub.execute_input": "2023-07-18T14:17:26.593007Z",
     "iopub.status.busy": "2023-07-18T14:17:26.592606Z",
     "iopub.status.idle": "2023-07-18T14:17:26.779168Z",
     "shell.execute_reply": "2023-07-18T14:17:26.778133Z"
    },
    "papermill": {
     "duration": 0.225763,
     "end_time": "2023-07-18T14:17:26.781650",
     "exception": false,
     "start_time": "2023-07-18T14:17:26.555887",
     "status": "completed"
    },
    "tags": []
   },
   "outputs": [],
   "source": [
    "validation_split = 0.1\n",
    "df = df.sample(frac=1).reset_index(drop=True)\n",
    "val_df = df[:int(validation_split*len(df))]\n",
    "train_df = df[int(validation_split*len(df)):]\n",
    "\n",
    "train_dataset = create_dataset(train_df)\n",
    "val_dataset = create_dataset(val_df)\n",
    "\n",
    "batch_size = 32\n",
    "train_dataset = train_dataset.shuffle(buffer_size=1000).batch(batch_size)\n",
    "val_dataset = val_dataset.batch(batch_size)"
   ]
  },
  {
   "cell_type": "code",
   "execution_count": 11,
   "id": "9e8c728a",
   "metadata": {
    "execution": {
     "iopub.execute_input": "2023-07-18T14:17:26.856381Z",
     "iopub.status.busy": "2023-07-18T14:17:26.855391Z",
     "iopub.status.idle": "2023-07-18T14:17:26.914577Z",
     "shell.execute_reply": "2023-07-18T14:17:26.913606Z"
    },
    "papermill": {
     "duration": 0.126506,
     "end_time": "2023-07-18T14:17:26.944763",
     "exception": false,
     "start_time": "2023-07-18T14:17:26.818257",
     "status": "completed"
    },
    "tags": []
   },
   "outputs": [
    {
     "name": "stdout",
     "output_type": "stream",
     "text": [
      "Model: \"model\"\n",
      "_________________________________________________________________\n",
      " Layer (type)                Output Shape              Param #   \n",
      "=================================================================\n",
      " input_1 (InputLayer)        [(None, 224, 224, 3)]     0         \n",
      "                                                                 \n",
      " conv2d (Conv2D)             (None, 224, 224, 32)      896       \n",
      "                                                                 \n",
      " conv2d_1 (Conv2D)           (None, 224, 224, 32)      9248      \n",
      "                                                                 \n",
      " max_pooling2d (MaxPooling2D  (None, 112, 112, 32)     0         \n",
      " )                                                               \n",
      "                                                                 \n",
      " conv2d_2 (Conv2D)           (None, 112, 112, 64)      18496     \n",
      "                                                                 \n",
      " conv2d_3 (Conv2D)           (None, 112, 112, 64)      36928     \n",
      "                                                                 \n",
      " max_pooling2d_1 (MaxPooling  (None, 56, 56, 64)       0         \n",
      " 2D)                                                             \n",
      "                                                                 \n",
      " conv2d_4 (Conv2D)           (None, 56, 56, 128)       73856     \n",
      "                                                                 \n",
      " max_pooling2d_2 (MaxPooling  (None, 28, 28, 128)      0         \n",
      " 2D)                                                             \n",
      "                                                                 \n",
      " conv2d_5 (Conv2D)           (None, 28, 28, 128)       147584    \n",
      "                                                                 \n",
      " max_pooling2d_3 (MaxPooling  (None, 14, 14, 128)      0         \n",
      " 2D)                                                             \n",
      "                                                                 \n",
      " flatten (Flatten)           (None, 25088)             0         \n",
      "                                                                 \n",
      " dropout (Dropout)           (None, 25088)             0         \n",
      "                                                                 \n",
      " batch_normalization (BatchN  (None, 25088)            100352    \n",
      " ormalization)                                                   \n",
      "                                                                 \n",
      " dense (Dense)               (None, 512)               12845568  \n",
      "                                                                 \n",
      " dense_1 (Dense)             (None, 256)               131328    \n",
      "                                                                 \n",
      " dense_2 (Dense)             (None, 64)                16448     \n",
      "                                                                 \n",
      " dense_3 (Dense)             (None, 1)                 65        \n",
      "                                                                 \n",
      "=================================================================\n",
      "Total params: 13,380,769\n",
      "Trainable params: 13,330,593\n",
      "Non-trainable params: 50,176\n",
      "_________________________________________________________________\n"
     ]
    }
   ],
   "source": [
    "model.compile(optimizer='Adam',loss='categorical_crossentropy',metrics=['accuracy'])\n",
    "model.summary()"
   ]
  },
  {
   "cell_type": "code",
   "execution_count": 12,
   "id": "82381140",
   "metadata": {
    "execution": {
     "iopub.execute_input": "2023-07-18T14:17:27.025569Z",
     "iopub.status.busy": "2023-07-18T14:17:27.025224Z",
     "iopub.status.idle": "2023-07-18T14:29:18.935811Z",
     "shell.execute_reply": "2023-07-18T14:29:18.934835Z"
    },
    "papermill": {
     "duration": 711.95371,
     "end_time": "2023-07-18T14:29:18.937980",
     "exception": false,
     "start_time": "2023-07-18T14:17:26.984270",
     "status": "completed"
    },
    "tags": []
   },
   "outputs": [
    {
     "name": "stdout",
     "output_type": "stream",
     "text": [
      "Epoch 1/50\n",
      "1278/1278 [==============================] - 187s 134ms/step - loss: 2.1043e-07 - accuracy: 0.0288 - val_loss: 1.8644e-07 - val_accuracy: 0.0363 - lr: 0.0010\n",
      "Epoch 2/50\n",
      "1278/1278 [==============================] - 172s 132ms/step - loss: 2.1043e-07 - accuracy: 0.0295 - val_loss: 1.8644e-07 - val_accuracy: 0.0361 - lr: 0.0010\n",
      "Epoch 3/50\n",
      "1278/1278 [==============================] - 174s 133ms/step - loss: 2.1043e-07 - accuracy: 0.0287 - val_loss: 1.8644e-07 - val_accuracy: 0.0361 - lr: 0.0010\n",
      "Epoch 4/50\n",
      "1278/1278 [==============================] - 179s 137ms/step - loss: 2.1043e-07 - accuracy: 0.0293 - val_loss: 1.8644e-07 - val_accuracy: 0.0363 - lr: 1.0000e-04\n"
     ]
    },
    {
     "data": {
      "text/plain": [
       "<keras.callbacks.History at 0x7f05349a1b10>"
      ]
     },
     "execution_count": 12,
     "metadata": {},
     "output_type": "execute_result"
    }
   ],
   "source": [
    "\n",
    "# Define early stopping\n",
    "early_stopping = tf.keras.callbacks.EarlyStopping(monitor='val_loss', patience=3)\n",
    "\n",
    "# Define learning rate scheduler\n",
    "lr_scheduler = tf.keras.callbacks.ReduceLROnPlateau(monitor='val_loss', factor=0.1, patience=2)\n",
    "\n",
    "# Fit the model\n",
    "model.fit(train_dataset, validation_data=val_dataset, epochs=50, callbacks=[early_stopping, lr_scheduler])"
   ]
  },
  {
   "cell_type": "markdown",
   "id": "8026074f",
   "metadata": {
    "papermill": {
     "duration": 0.428153,
     "end_time": "2023-07-18T14:29:19.798954",
     "exception": false,
     "start_time": "2023-07-18T14:29:19.370801",
     "status": "completed"
    },
    "tags": []
   },
   "source": [
    "### Testing for a random image"
   ]
  },
  {
   "cell_type": "code",
   "execution_count": 13,
   "id": "2a650913",
   "metadata": {
    "execution": {
     "iopub.execute_input": "2023-07-18T14:29:20.708442Z",
     "iopub.status.busy": "2023-07-18T14:29:20.708051Z",
     "iopub.status.idle": "2023-07-18T14:29:21.108077Z",
     "shell.execute_reply": "2023-07-18T14:29:21.107147Z"
    },
    "papermill": {
     "duration": 0.83044,
     "end_time": "2023-07-18T14:29:21.110254",
     "exception": false,
     "start_time": "2023-07-18T14:29:20.279814",
     "status": "completed"
    },
    "tags": []
   },
   "outputs": [
    {
     "name": "stdout",
     "output_type": "stream",
     "text": [
      "1/1 [==============================] - 0s 292ms/step\n",
      "Predicted steering angle:  534.9645\n",
      "Actual steering angle:  10.39\n"
     ]
    }
   ],
   "source": [
    "import random\n",
    "from tensorflow.keras.preprocessing import image as keras_image\n",
    "import numpy as np\n",
    "\n",
    "def load_image(image_path, target_size=(224, 224)):\n",
    "    img = keras_image.load_img(image_path, target_size=target_size)\n",
    "    img_tensor = keras_image.img_to_array(img)\n",
    "    img_tensor = np.expand_dims(img_tensor, axis=0)\n",
    "    img_tensor = tf.keras.applications.resnet.preprocess_input(img_tensor)\n",
    "    return img_tensor\n",
    "\n",
    "# Randomly select an image from validation set\n",
    "random_image_path = random.choice(val_df['filename'].tolist())\n",
    "\n",
    "# Load the image\n",
    "test_image = load_image(random_image_path)\n",
    "\n",
    "# Use the model to predict the steering angle for the test image\n",
    "predicted_angle = model.predict(test_image)\n",
    "\n",
    "# Print out the predicted steering angle\n",
    "print(\"Predicted steering angle: \", predicted_angle[0][0])\n",
    "\n",
    "# If you want to compare this prediction to the actual angle, you could find that as follows:\n",
    "actual_angle = val_df[val_df['filename'] == random_image_path]['steering_angle'].values[0]\n",
    "print(\"Actual steering angle: \", actual_angle)"
   ]
  }
 ],
 "metadata": {
  "kernelspec": {
   "display_name": "Python 3",
   "language": "python",
   "name": "python3"
  },
  "language_info": {
   "codemirror_mode": {
    "name": "ipython",
    "version": 3
   },
   "file_extension": ".py",
   "mimetype": "text/x-python",
   "name": "python",
   "nbconvert_exporter": "python",
   "pygments_lexer": "ipython3",
   "version": "3.10.12"
  },
  "papermill": {
   "default_parameters": {},
   "duration": 867.433267,
   "end_time": "2023-07-18T14:29:25.341338",
   "environment_variables": {},
   "exception": null,
   "input_path": "__notebook__.ipynb",
   "output_path": "__notebook__.ipynb",
   "parameters": {},
   "start_time": "2023-07-18T14:14:57.908071",
   "version": "2.4.0"
  }
 },
 "nbformat": 4,
 "nbformat_minor": 5
}
