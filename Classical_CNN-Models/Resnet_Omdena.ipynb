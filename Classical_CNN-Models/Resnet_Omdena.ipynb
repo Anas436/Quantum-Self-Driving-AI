{
  "nbformat": 4,
  "nbformat_minor": 0,
  "metadata": {
    "colab": {
      "provenance": [],
      "gpuType": "T4"
    },
    "kernelspec": {
      "name": "python3",
      "display_name": "Python 3"
    },
    "language_info": {
      "name": "python"
    },
    "accelerator": "GPU"
  },
  "cells": [
    {
      "cell_type": "code",
      "source": [
        "!git clone https://github.com/raghav-thiruv/Omdena-Quantum-Self-Driving.git"
      ],
      "metadata": {
        "colab": {
          "base_uri": "https://localhost:8080/"
        },
        "id": "f7LcsFEveTT8",
        "outputId": "36469511-3e28-43b6-ce17-32d8bc4ac6b3"
      },
      "execution_count": 1,
      "outputs": [
        {
          "output_type": "stream",
          "name": "stdout",
          "text": [
            "Cloning into 'Omdena-Quantum-Self-Driving'...\n",
            "remote: Enumerating objects: 45743, done.\u001b[K\n",
            "remote: Counting objects: 100% (11653/11653), done.\u001b[K\n",
            "remote: Compressing objects: 100% (11637/11637), done.\u001b[K\n",
            "remote: Total 45743 (delta 22), reused 11638 (delta 15), pack-reused 34090\n",
            "Receiving objects: 100% (45743/45743), 2.16 GiB | 43.45 MiB/s, done.\n",
            "Resolving deltas: 100% (51/51), done.\n",
            "Updating files: 100% (45590/45590), done.\n"
          ]
        }
      ]
    },
    {
      "cell_type": "code",
      "execution_count": 2,
      "metadata": {
        "id": "snkQ0XQfb6pW"
      },
      "outputs": [],
      "source": [
        "import tensorflow as tf\n",
        "from tensorflow.keras.applications import ResNet50\n",
        "from tensorflow.keras.layers import GlobalAveragePooling2D, Dense, Dropout\n",
        "from tensorflow.keras.models import Model\n",
        "from tensorflow.keras import regularizers\n",
        "import pandas as pd\n",
        "import os"
      ]
    },
    {
      "cell_type": "code",
      "source": [
        "from struct import unpack\n",
        "from tqdm import tqdm\n",
        "import os\n",
        "\n",
        "img_dir = '/content/Omdena-Quantum-Self-Driving/Images/driving_dataset1/'\n",
        "root_img = '/content/Omdena-Quantum-Self-Driving/Images/driving_dataset1/'\n",
        "marker_mapping = {\n",
        "    0xffd8: \"Start of Image\",\n",
        "    0xffe0: \"Application Default Header\",\n",
        "    0xffdb: \"Quantization Table\",\n",
        "    0xffc0: \"Start of Frame\",\n",
        "    0xffc4: \"Define Huffman Table\",\n",
        "    0xffda: \"Start of Scan\",\n",
        "    0xffd9: \"End of Image\"\n",
        "}\n",
        "\n",
        "\n",
        "class JPEG:\n",
        "    def __init__(self, image_file):\n",
        "        with open(image_file, 'rb') as f:\n",
        "            self.img_data = f.read()\n",
        "\n",
        "    def decode(self):\n",
        "        data = self.img_data\n",
        "        while(True):\n",
        "            marker, = unpack(\">H\", data[0:2])\n",
        "            # print(marker_mapping.get(marker))\n",
        "            if marker == 0xffd8:\n",
        "                data = data[2:]\n",
        "            elif marker == 0xffd9:\n",
        "                return\n",
        "            elif marker == 0xffda:\n",
        "                data = data[-2:]\n",
        "            else:\n",
        "                lenchunk, = unpack(\">H\", data[2:4])\n",
        "                data = data[2+lenchunk:]\n",
        "            if len(data)==0:\n",
        "               raise TypeError(\"issue reading jpeg file\")\n",
        "\n",
        "\n",
        "bads = []\n",
        "\n",
        "for dirName, subdirList, fileList in os.walk(img_dir):\n",
        "    imagesList = fileList\n",
        "    for img in tqdm(imagesList):\n",
        "      image = os.path.join(root_img,img)\n",
        "      image = JPEG(image)\n",
        "      try:\n",
        "        image.decode()\n",
        "      except:\n",
        "        bads.append(img)\n",
        "\n",
        "\n",
        "for name in bads:\n",
        "  os.remove(os.path.join(root_img,name))"
      ],
      "metadata": {
        "colab": {
          "base_uri": "https://localhost:8080/"
        },
        "id": "GNzvFnWaGN7Y",
        "outputId": "7e9a0d05-e04d-4aeb-b0d9-948996c058e1"
      },
      "execution_count": 34,
      "outputs": [
        {
          "output_type": "stream",
          "name": "stderr",
          "text": [
            "100%|██████████| 45568/45568 [00:10<00:00, 4220.71it/s]\n"
          ]
        }
      ]
    },
    {
      "cell_type": "code",
      "source": [
        "# Load steering angles from text file\n",
        "df = pd.read_csv('/content/Omdena-Quantum-Self-Driving/Images/driving_dataset1/data.txt', names=['filename', 'steering_angle'], delimiter=' ')\n",
        "image_dir = '/content/Omdena-Quantum-Self-Driving/Images/driving_dataset1/'\n",
        "data_file = \"/content/Omdena-Quantum-Self-Driving/Images/driving_dataset1/data.txt\"\n",
        "df['filename'] = df['filename'].apply(lambda x: os.path.join(image_dir, x))\n",
        "df.head()"
      ],
      "metadata": {
        "id": "O9g_vgcgcKtz",
        "colab": {
          "base_uri": "https://localhost:8080/",
          "height": 206
        },
        "outputId": "6167a6fb-de4c-4258-f80e-dd6dc0f2fce1"
      },
      "execution_count": 36,
      "outputs": [
        {
          "output_type": "execute_result",
          "data": {
            "text/plain": [
              "                                            filename  steering_angle\n",
              "0  /content/Omdena-Quantum-Self-Driving/Images/dr...             0.0\n",
              "1  /content/Omdena-Quantum-Self-Driving/Images/dr...             0.0\n",
              "2  /content/Omdena-Quantum-Self-Driving/Images/dr...             0.0\n",
              "3  /content/Omdena-Quantum-Self-Driving/Images/dr...             0.0\n",
              "4  /content/Omdena-Quantum-Self-Driving/Images/dr...             0.0"
            ],
            "text/html": [
              "\n",
              "  <div id=\"df-d405740f-db76-4740-9cee-e0d69955f840\">\n",
              "    <div class=\"colab-df-container\">\n",
              "      <div>\n",
              "<style scoped>\n",
              "    .dataframe tbody tr th:only-of-type {\n",
              "        vertical-align: middle;\n",
              "    }\n",
              "\n",
              "    .dataframe tbody tr th {\n",
              "        vertical-align: top;\n",
              "    }\n",
              "\n",
              "    .dataframe thead th {\n",
              "        text-align: right;\n",
              "    }\n",
              "</style>\n",
              "<table border=\"1\" class=\"dataframe\">\n",
              "  <thead>\n",
              "    <tr style=\"text-align: right;\">\n",
              "      <th></th>\n",
              "      <th>filename</th>\n",
              "      <th>steering_angle</th>\n",
              "    </tr>\n",
              "  </thead>\n",
              "  <tbody>\n",
              "    <tr>\n",
              "      <th>0</th>\n",
              "      <td>/content/Omdena-Quantum-Self-Driving/Images/dr...</td>\n",
              "      <td>0.0</td>\n",
              "    </tr>\n",
              "    <tr>\n",
              "      <th>1</th>\n",
              "      <td>/content/Omdena-Quantum-Self-Driving/Images/dr...</td>\n",
              "      <td>0.0</td>\n",
              "    </tr>\n",
              "    <tr>\n",
              "      <th>2</th>\n",
              "      <td>/content/Omdena-Quantum-Self-Driving/Images/dr...</td>\n",
              "      <td>0.0</td>\n",
              "    </tr>\n",
              "    <tr>\n",
              "      <th>3</th>\n",
              "      <td>/content/Omdena-Quantum-Self-Driving/Images/dr...</td>\n",
              "      <td>0.0</td>\n",
              "    </tr>\n",
              "    <tr>\n",
              "      <th>4</th>\n",
              "      <td>/content/Omdena-Quantum-Self-Driving/Images/dr...</td>\n",
              "      <td>0.0</td>\n",
              "    </tr>\n",
              "  </tbody>\n",
              "</table>\n",
              "</div>\n",
              "      <button class=\"colab-df-convert\" onclick=\"convertToInteractive('df-d405740f-db76-4740-9cee-e0d69955f840')\"\n",
              "              title=\"Convert this dataframe to an interactive table.\"\n",
              "              style=\"display:none;\">\n",
              "        \n",
              "  <svg xmlns=\"http://www.w3.org/2000/svg\" height=\"24px\"viewBox=\"0 0 24 24\"\n",
              "       width=\"24px\">\n",
              "    <path d=\"M0 0h24v24H0V0z\" fill=\"none\"/>\n",
              "    <path d=\"M18.56 5.44l.94 2.06.94-2.06 2.06-.94-2.06-.94-.94-2.06-.94 2.06-2.06.94zm-11 1L8.5 8.5l.94-2.06 2.06-.94-2.06-.94L8.5 2.5l-.94 2.06-2.06.94zm10 10l.94 2.06.94-2.06 2.06-.94-2.06-.94-.94-2.06-.94 2.06-2.06.94z\"/><path d=\"M17.41 7.96l-1.37-1.37c-.4-.4-.92-.59-1.43-.59-.52 0-1.04.2-1.43.59L10.3 9.45l-7.72 7.72c-.78.78-.78 2.05 0 2.83L4 21.41c.39.39.9.59 1.41.59.51 0 1.02-.2 1.41-.59l7.78-7.78 2.81-2.81c.8-.78.8-2.07 0-2.86zM5.41 20L4 18.59l7.72-7.72 1.47 1.35L5.41 20z\"/>\n",
              "  </svg>\n",
              "      </button>\n",
              "      \n",
              "  <style>\n",
              "    .colab-df-container {\n",
              "      display:flex;\n",
              "      flex-wrap:wrap;\n",
              "      gap: 12px;\n",
              "    }\n",
              "\n",
              "    .colab-df-convert {\n",
              "      background-color: #E8F0FE;\n",
              "      border: none;\n",
              "      border-radius: 50%;\n",
              "      cursor: pointer;\n",
              "      display: none;\n",
              "      fill: #1967D2;\n",
              "      height: 32px;\n",
              "      padding: 0 0 0 0;\n",
              "      width: 32px;\n",
              "    }\n",
              "\n",
              "    .colab-df-convert:hover {\n",
              "      background-color: #E2EBFA;\n",
              "      box-shadow: 0px 1px 2px rgba(60, 64, 67, 0.3), 0px 1px 3px 1px rgba(60, 64, 67, 0.15);\n",
              "      fill: #174EA6;\n",
              "    }\n",
              "\n",
              "    [theme=dark] .colab-df-convert {\n",
              "      background-color: #3B4455;\n",
              "      fill: #D2E3FC;\n",
              "    }\n",
              "\n",
              "    [theme=dark] .colab-df-convert:hover {\n",
              "      background-color: #434B5C;\n",
              "      box-shadow: 0px 1px 3px 1px rgba(0, 0, 0, 0.15);\n",
              "      filter: drop-shadow(0px 1px 2px rgba(0, 0, 0, 0.3));\n",
              "      fill: #FFFFFF;\n",
              "    }\n",
              "  </style>\n",
              "\n",
              "      <script>\n",
              "        const buttonEl =\n",
              "          document.querySelector('#df-d405740f-db76-4740-9cee-e0d69955f840 button.colab-df-convert');\n",
              "        buttonEl.style.display =\n",
              "          google.colab.kernel.accessAllowed ? 'block' : 'none';\n",
              "\n",
              "        async function convertToInteractive(key) {\n",
              "          const element = document.querySelector('#df-d405740f-db76-4740-9cee-e0d69955f840');\n",
              "          const dataTable =\n",
              "            await google.colab.kernel.invokeFunction('convertToInteractive',\n",
              "                                                     [key], {});\n",
              "          if (!dataTable) return;\n",
              "\n",
              "          const docLinkHtml = 'Like what you see? Visit the ' +\n",
              "            '<a target=\"_blank\" href=https://colab.research.google.com/notebooks/data_table.ipynb>data table notebook</a>'\n",
              "            + ' to learn more about interactive tables.';\n",
              "          element.innerHTML = '';\n",
              "          dataTable['output_type'] = 'display_data';\n",
              "          await google.colab.output.renderOutput(dataTable, element);\n",
              "          const docLink = document.createElement('div');\n",
              "          docLink.innerHTML = docLinkHtml;\n",
              "          element.appendChild(docLink);\n",
              "        }\n",
              "      </script>\n",
              "    </div>\n",
              "  </div>\n",
              "  "
            ]
          },
          "metadata": {},
          "execution_count": 36
        }
      ]
    },
    {
      "cell_type": "code",
      "source": [
        "def resnet_model(input_shape):\n",
        "    base_model = tf.keras.applications.ResNet50(include_top=False, weights='imagenet', input_shape=input_shape)\n",
        "    base_model.trainable = False\n",
        "    x = base_model.output\n",
        "    x = tf.keras.layers.GlobalAveragePooling2D()(x)\n",
        "    x = tf.keras.layers.Dense(1024, activation='relu')(x)\n",
        "    x = tf.keras.layers.Dropout(0.5)(x)\n",
        "    x = tf.keras.layers.Dense(1024, activation='relu')(x)\n",
        "    output = tf.keras.layers.Dense(1)(x)\n",
        "    model = tf.keras.Model(inputs=base_model.input, outputs=output)\n",
        "    return model\n",
        "\n",
        "def load_image(image_path):\n",
        "    try:\n",
        "        image = tf.io.read_file(image_path)\n",
        "        image = tf.image.decode_jpeg(image, channels=3)\n",
        "        image = tf.image.resize(image, (224, 224))\n",
        "        image = tf.keras.applications.resnet.preprocess_input(image)\n",
        "    except:\n",
        "        print(f\"Invalid image format, skipping: {image_path}\")\n",
        "        return None\n",
        "    return image\n",
        "\n",
        "def create_dataset(df):\n",
        "    image_dataset = tf.data.Dataset.from_tensor_slices(df['filename'])\n",
        "    angle_dataset = tf.data.Dataset.from_tensor_slices(df['steering_angle'])\n",
        "    image_dataset = image_dataset.map(load_image, num_parallel_calls=tf.data.AUTOTUNE)\n",
        "    image_dataset = image_dataset.apply(tf.data.experimental.ignore_errors())\n",
        "    dataset = tf.data.Dataset.zip((image_dataset, angle_dataset))\n",
        "\n",
        "    return dataset\n",
        "\n",
        "validation_split = 0.1\n",
        "df = df.sample(frac=1).reset_index(drop=True)\n",
        "val_df = df[:int(validation_split*len(df))]\n",
        "train_df = df[int(validation_split*len(df)):]\n",
        "\n",
        "train_dataset = create_dataset(train_df)\n",
        "val_dataset = create_dataset(val_df)\n",
        "\n",
        "batch_size = 32\n",
        "train_dataset = train_dataset.shuffle(buffer_size=1000).batch(batch_size)\n",
        "val_dataset = val_dataset.batch(batch_size)\n",
        "\n",
        "model = resnet_model((224, 224, 3))\n",
        "\n",
        "# Compile the model\n",
        "model.compile(optimizer=tf.keras.optimizers.Adam(learning_rate=1e-5), loss='mean_absolute_error')"
      ],
      "metadata": {
        "id": "WCS6Rpc8d0S6"
      },
      "execution_count": 51,
      "outputs": []
    },
    {
      "cell_type": "code",
      "source": [
        "\n",
        "# Define early stopping\n",
        "early_stopping = tf.keras.callbacks.EarlyStopping(monitor='val_loss', patience=3)"
      ],
      "metadata": {
        "id": "-HfQxA5bcTwT"
      },
      "execution_count": 52,
      "outputs": []
    },
    {
      "cell_type": "code",
      "source": [
        "# Fit the model to the data\n",
        "model.fit(train_dataset, validation_data=val_dataset, epochs=25, callbacks=[early_stopping])"
      ],
      "metadata": {
        "id": "qRD0tvFbcZ02",
        "colab": {
          "base_uri": "https://localhost:8080/"
        },
        "outputId": "412d904f-651e-4fc0-ead5-1108be2882c9"
      },
      "execution_count": null,
      "outputs": [
        {
          "output_type": "stream",
          "name": "stdout",
          "text": [
            "Epoch 1/25\n",
            "1278/1278 [==============================] - 251s 190ms/step - loss: 14.8560 - val_loss: 14.7157\n",
            "Epoch 2/25\n",
            "1278/1278 [==============================] - 217s 166ms/step - loss: 14.1710 - val_loss: 13.9089\n",
            "Epoch 3/25\n",
            "1278/1278 [==============================] - 242s 186ms/step - loss: 13.3782 - val_loss: 13.0078\n",
            "Epoch 4/25\n",
            "1278/1278 [==============================] - 224s 172ms/step - loss: 12.6047 - val_loss: 12.2147\n",
            "Epoch 5/25\n",
            "1278/1278 [==============================] - 225s 173ms/step - loss: 11.8791 - val_loss: 11.4574\n",
            "Epoch 6/25\n",
            "1278/1278 [==============================] - 226s 173ms/step - loss: 11.2204 - val_loss: 10.7544\n",
            "Epoch 7/25\n",
            "1278/1278 [==============================] - 220s 169ms/step - loss: 10.6806 - val_loss: 10.2497\n",
            "Epoch 8/25\n",
            "1278/1278 [==============================] - 218s 168ms/step - loss: 10.2225 - val_loss: 9.7961\n",
            "Epoch 9/25\n",
            "1278/1278 [==============================] - 223s 171ms/step - loss: 9.8626 - val_loss: 9.4845\n",
            "Epoch 10/25\n",
            "1278/1278 [==============================] - 221s 170ms/step - loss: 9.4551 - val_loss: 9.1232\n",
            "Epoch 11/25\n",
            "1278/1278 [==============================] - 217s 168ms/step - loss: 9.1438 - val_loss: 8.7846\n",
            "Epoch 12/25\n",
            "1278/1278 [==============================] - 225s 172ms/step - loss: 8.8432 - val_loss: 8.5543\n",
            "Epoch 13/25\n",
            "1278/1278 [==============================] - 222s 171ms/step - loss: 8.5740 - val_loss: 8.1962\n",
            "Epoch 14/25\n",
            "1278/1278 [==============================] - 227s 174ms/step - loss: 8.3271 - val_loss: 7.9826\n",
            "Epoch 15/25\n",
            "1278/1278 [==============================] - 227s 174ms/step - loss: 8.0906 - val_loss: 7.7472\n",
            "Epoch 16/25\n",
            "1278/1278 [==============================] - 217s 167ms/step - loss: 7.8754 - val_loss: 7.5154\n",
            "Epoch 17/25\n",
            "1278/1278 [==============================] - 216s 166ms/step - loss: 7.7046 - val_loss: 7.3433\n",
            "Epoch 18/25\n",
            "1278/1278 [==============================] - 241s 185ms/step - loss: 7.5096 - val_loss: 7.1841\n",
            "Epoch 19/25\n",
            "1278/1278 [==============================] - 216s 166ms/step - loss: 7.3405 - val_loss: 7.0106\n",
            "Epoch 20/25\n",
            "1278/1278 [==============================] - 217s 166ms/step - loss: 7.1352 - val_loss: 6.8689\n",
            "Epoch 21/25\n",
            "1278/1278 [==============================] - 217s 166ms/step - loss: 6.9836 - val_loss: 6.7472\n",
            "Epoch 22/25\n",
            "1278/1278 [==============================] - 220s 169ms/step - loss: 6.8386 - val_loss: 6.6055\n",
            "Epoch 23/25\n",
            "1234/1278 [===========================>..] - ETA: 6s - loss: 6.6877"
          ]
        }
      ]
    },
    {
      "cell_type": "markdown",
      "source": [
        "## Testing for a random image"
      ],
      "metadata": {
        "id": "OXaatoefX8qs"
      }
    },
    {
      "cell_type": "code",
      "source": [
        "import random\n",
        "from tensorflow.keras.preprocessing import image as keras_image\n",
        "import numpy as np\n",
        "\n",
        "def load_image(image_path, target_size=(224, 224)):\n",
        "    img = keras_image.load_img(image_path, target_size=target_size)\n",
        "    img_tensor = keras_image.img_to_array(img)\n",
        "    img_tensor = np.expand_dims(img_tensor, axis=0)\n",
        "    img_tensor = tf.keras.applications.resnet.preprocess_input(img_tensor)\n",
        "    return img_tensor\n",
        "\n",
        "# Randomly select an image from validation set\n",
        "random_image_path = random.choice(val_df['filename'].tolist())\n",
        "\n",
        "# Load the image\n",
        "test_image = load_image(random_image_path)\n",
        "\n",
        "# Use the model to predict the steering angle for the test image\n",
        "predicted_angle = model.predict(test_image)\n",
        "\n",
        "# Print out the predicted steering angle\n",
        "print(\"Predicted steering angle: \", predicted_angle[0][0])\n",
        "\n",
        "# If you want to compare this prediction to the actual angle, you could find that as follows:\n",
        "actual_angle = val_df[val_df['filename'] == random_image_path]['steering_angle'].values[0]\n",
        "print(\"Actual steering angle: \", actual_angle)\n"
      ],
      "metadata": {
        "id": "_vxygSnOcfc6"
      },
      "execution_count": 47,
      "outputs": []
    },
    {
      "cell_type": "code",
      "source": [],
      "metadata": {
        "id": "bX84jnUKXY0s"
      },
      "execution_count": 47,
      "outputs": []
    },
    {
      "cell_type": "code",
      "source": [],
      "metadata": {
        "id": "y-AA9ncRXy88"
      },
      "execution_count": null,
      "outputs": []
    }
  ]
}